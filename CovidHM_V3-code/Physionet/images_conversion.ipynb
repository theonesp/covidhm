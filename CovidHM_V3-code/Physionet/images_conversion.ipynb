{
 "cells": [
  {
   "cell_type": "markdown",
   "metadata": {},
   "source": [
    "# Environment"
   ]
  },
  {
   "cell_type": "code",
   "execution_count": null,
   "metadata": {},
   "outputs": [],
   "source": [
    "import pandas as pd\n",
    "import threading\n",
    "from pathlib import Path\n",
    "from concurrent.futures import ThreadPoolExecutor, as_completed\n",
    "import logging\n",
    "import pydicom\n",
    "import numpy as np\n",
    "from pydicom.pixel_data_handlers.util import apply_voi_lut\n",
    "from PIL import Image\n",
    "from tqdm import tqdm\n",
    "import settings as settings\n",
    "\n",
    "# Paths\n",
    "base_input_path = Path(settings.base_input_path)\n",
    "base_output_path = Path(settings.base_output_path)\n",
    "output_tables_path = Path(settings.output_tables_path)\n",
    "\n",
    "# Load metadata table\n",
    "metadata_keys = pd.read_csv(settings.metadata_keys_path)\n",
    "\n",
    "# Extract unique segments and create a dictionary of folders (name of folders: paths)\n",
    "unique_segments = set(metadata_keys['Segment'])\n",
    "folder_dict = {folder.name: folder for folder in base_input_path.iterdir() if folder.is_dir() and folder.name in unique_segments}\n",
    "\n",
    "# Calculate total number of .dc3 files across all folders in folder_dict\n",
    "total_files = sum(1 for folder in folder_dict.values() for DICOM in folder.iterdir() if DICOM.suffix.lower() == '.dc3')\n",
    "\n",
    "# Filter metadata table to include only existing folders (for testing purposes with fewer folders)\n",
    "metadata_keys_filtered = metadata_keys[metadata_keys['Segment'].isin(folder_dict.keys())]\n",
    "unique_segments_filtered = set(metadata_keys_filtered['Segment'])\n"
   ]
  },
  {
   "cell_type": "markdown",
   "metadata": {},
   "source": [
    "# Functions"
   ]
  },
  {
   "cell_type": "code",
   "execution_count": null,
   "metadata": {},
   "outputs": [],
   "source": [
    "# Function to convert DICOM file into JPG file\n",
    "def convert_d3c_to_jpg(d3c_file_path, jpg_file_path, voi_lut=True):\n",
    "    image_errors = []\n",
    "    try:\n",
    "        ds = pydicom.dcmread(d3c_file_path)\n",
    "        # VOI LUT (if available by DICOM device) is used to enhance the visualization of\n",
    "        # specific ranges of pixel values that are most relevant for diagnosis\n",
    "        if voi_lut:\n",
    "            data = apply_voi_lut(ds.pixel_array, ds)\n",
    "        else:\n",
    "            data = ds.pixel_array\n",
    "        data = data - np.min(data)\n",
    "        data = data / np.max(data)\n",
    "        data = (data * 255).astype(np.uint8)\n",
    "        # Invert pixel values if necessary\n",
    "        if ds.PhotometricInterpretation == \"MONOCHROME1\":\n",
    "            data = np.max(data) - data\n",
    "        ## Equalize the histogram of the image to improve contrast\n",
    "        # data = cv2.equalizeHist(data)\n",
    "        # Create an image and save it in JPG format\n",
    "        im = Image.fromarray(data)\n",
    "        im.save(jpg_file_path, \"JPEG\", quality=95)\n",
    "    except Exception as e:\n",
    "        logging.error(\"Error processing file %s: %s\", d3c_file_path, str(e))\n",
    "        # Add the file name to the error list\n",
    "        image_errors.append(d3c_file_path)\n",
    "    return image_errors\n",
    "\n",
    "# Function to process DICOM, convert them into JPG and save them using a specific folder system\n",
    "def process_and_convert_files(dataframe):\n",
    "    image_errors = []\n",
    "    processed_images = []\n",
    "    lock = threading.Lock()\n",
    "\n",
    "    def process_file(row, pbar):\n",
    "        nonlocal image_errors\n",
    "        segment = row['Segment']\n",
    "        patient_group_folder = row['patient_group_folder']\n",
    "        patient_deid_folder = row['patient_deid_folder']\n",
    "        segment_deid = row['Segment_deid']\n",
    "        file_name_deid = row['SOPInstanceUID_deid']\n",
    "        file_name = row['SOPInstanceUID']\n",
    "        \n",
    "        source_folder = folder_dict[segment]\n",
    "        dest_folder = base_output_path / patient_group_folder / patient_deid_folder / segment_deid\n",
    "        dest_folder.mkdir(parents=True, exist_ok=True)\n",
    "        \n",
    "        d3c_file_path = source_folder / f\"{file_name}.dc3\"\n",
    "        if d3c_file_path.exists():\n",
    "            jpg_file_path = dest_folder / f\"{file_name_deid}.jpg\"\n",
    "            errors = convert_d3c_to_jpg(d3c_file_path, jpg_file_path)\n",
    "            if errors:\n",
    "                with lock:\n",
    "                    image_errors.append(row)\n",
    "            else:\n",
    "                with lock:\n",
    "                    processed_images.append(row)\n",
    "            with lock:\n",
    "                pbar.update(1)\n",
    "        else:\n",
    "            with lock:\n",
    "                image_errors.append(row)\n",
    "            with lock:\n",
    "                pbar.update(1)\n",
    "\n",
    "    with tqdm(total=total_files, desc=\"Processing files\", unit=\"file\") as pbar, ThreadPoolExecutor(max_workers=24) as executor:\n",
    "        futures = [executor.submit(process_file, row, pbar) for _, row in dataframe.iterrows()]\n",
    "        for future in as_completed(futures):\n",
    "            future.result()\n",
    "\n",
    "    # Create dataframes from the lists of errors and processed images\n",
    "    errors_df = pd.DataFrame(image_errors)\n",
    "    processed_images_df = pd.DataFrame(processed_images)\n",
    "    \n",
    "    # Save the dataframes to CSV files\n",
    "    errors_df.to_csv(output_tables_path / \"conversion_errors.csv\", index=False)\n",
    "    processed_images_df.to_csv(output_tables_path / \"processed_images.csv\", index=False)\n",
    "\n",
    "    print(image_errors)\n"
   ]
  },
  {
   "cell_type": "markdown",
   "metadata": {},
   "source": [
    "# Main"
   ]
  },
  {
   "cell_type": "code",
   "execution_count": null,
   "metadata": {},
   "outputs": [],
   "source": [
    "# Configure logging\n",
    "logging.basicConfig(filename='conversion_errors.log', level=logging.ERROR, \n",
    "                    format='%(asctime)s - %(levelname)s - %(message)s')\n",
    "\n",
    "# Call to main function\n",
    "process_and_convert_files(metadata_keys_filtered)\n"
   ]
  }
 ],
 "metadata": {
  "kernelspec": {
   "display_name": "Python 3",
   "language": "python",
   "name": "python3"
  },
  "language_info": {
   "codemirror_mode": {
    "name": "ipython",
    "version": 3
   },
   "file_extension": ".py",
   "mimetype": "text/x-python",
   "name": "python",
   "nbconvert_exporter": "python",
   "pygments_lexer": "ipython3",
   "version": "3.12.0"
  }
 },
 "nbformat": 4,
 "nbformat_minor": 2
}
